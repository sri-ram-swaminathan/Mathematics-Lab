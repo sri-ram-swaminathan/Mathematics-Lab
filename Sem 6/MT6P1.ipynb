{
  "cells": [
    {
      "cell_type": "code",
      "execution_count": 1,
      "id": "c30ecf17",
      "metadata": {
        "id": "c30ecf17"
      },
      "outputs": [],
      "source": [
        "from sympy import *\n",
        "import sympy as sp\n",
        "import numpy as np\n",
        "from sympy.abc import x,y,z,a,b,p,q,u,c,t\n",
        "import pprint"
      ]
    },
    {
      "cell_type": "markdown",
      "id": "6648dcb7",
      "metadata": {
        "id": "6648dcb7"
      },
      "source": [
        "**1. Vector Spaces and Linear Combinations.**"
      ]
    },
    {
      "cell_type": "code",
      "execution_count": 2,
      "id": "d72158e3",
      "metadata": {
        "colab": {
          "base_uri": "https://localhost:8080/"
        },
        "id": "d72158e3",
        "outputId": "d8871e2a-0ff6-4e8b-da96-715585ec9544"
      },
      "outputs": [
        {
          "output_type": "stream",
          "name": "stdout",
          "text": [
            "The vector is in the span\n",
            "The scalars are {a0: 1, a1: -1}\n"
          ]
        }
      ],
      "source": [
        "def span(vector,S):\n",
        "    variables=sp.symbols(f'a:{len(S)}')\n",
        "    m=-vector\n",
        "    for i,var in enumerate(variables):\n",
        "        m=m+var*S[i]\n",
        "    scalars=sp.solve(m,variables)\n",
        "    if len(scalars)==0:\n",
        "        print(\"The vector is not in the span\")\n",
        "    else:\n",
        "        print(\"The vector is in the span\")\n",
        "        print(\"The scalars are\",scalars)\n",
        "\n",
        "vec=np.array((2,-1,1))\n",
        "s=np.array([(1,0,2),(-1,1,1)])\n",
        "span(vec,s)"
      ]
    },
    {
      "cell_type": "markdown",
      "id": "8234e8cb",
      "metadata": {
        "id": "8234e8cb"
      },
      "source": [
        "**2. Linear Independence, Dependence, Basis and Dimensions.**"
      ]
    },
    {
      "cell_type": "code",
      "execution_count": 3,
      "id": "a7bbec75",
      "metadata": {
        "colab": {
          "base_uri": "https://localhost:8080/"
        },
        "id": "a7bbec75",
        "outputId": "bfa850aa-ded2-4cdb-fb2c-11b02cf6abb9"
      },
      "outputs": [
        {
          "output_type": "stream",
          "name": "stdout",
          "text": [
            "Linear Independence\n",
            "Forms basis\n"
          ]
        }
      ],
      "source": [
        "def dependence(S,dim):\n",
        "    variables=sp.symbols(f'a:{len(S)}')\n",
        "    m=0\n",
        "    for i,var in enumerate(variables):\n",
        "        m=m+var*S[i]\n",
        "    scalars=sp.solve(m,variables)\n",
        "    solutions=[]\n",
        "    for key in scalars:\n",
        "        solutions.append(scalars[key])\n",
        "    m=len(solutions)\n",
        "    solutions=solutions.remove(0)\n",
        "    if solutions==None:\n",
        "        print(\"Linear Independence\")\n",
        "        if m==dim:\n",
        "            print(\"Forms basis\")\n",
        "        else:\n",
        "            print(\"Does not form basis\")\n",
        "    else:\n",
        "        print(\"Linear Dependence\")\n",
        "\n",
        "B=np.array([[1,0,0,-1],[0,1,0,-1],[0,0,1,-1],[0,0,0,1]])\n",
        "dim=4\n",
        "dependence(B,dim)"
      ]
    },
    {
      "cell_type": "markdown",
      "id": "7a780779",
      "metadata": {
        "id": "7a780779"
      },
      "source": [
        "**3. Linear Transformations.**"
      ]
    },
    {
      "cell_type": "code",
      "execution_count": 4,
      "id": "1d917e32",
      "metadata": {
        "colab": {
          "base_uri": "https://localhost:8080/"
        },
        "id": "1d917e32",
        "outputId": "8034c2ff-ec19-4697-c24f-d0ea3c7fb808"
      },
      "outputs": [
        {
          "output_type": "stream",
          "name": "stdout",
          "text": [
            "lhs is [c*x0 + y0, 2*c*x0 + c*x1 + 2*y0 + y1]\n",
            "rhs is [c*x0 + y0 c*(2*x0 + x1) + 2*y0 + y1]\n",
            "The given T is linear\n"
          ]
        }
      ],
      "source": [
        "def T(x):\n",
        "    x1=x[0]\n",
        "    x2=x[1]\n",
        "    return np.array([x1,2*x1+x2])\n",
        "\n",
        "def linear(T,n=2):\n",
        "    x=np.array(symbols(f'x:{n}'))\n",
        "    y=np.array(symbols(f'y:{n}'))\n",
        "    c=symbols('c')\n",
        "    lhs=T(c*x+y)\n",
        "    rhs=c*T(x)+T(y)\n",
        "    lhs=[expand(i) for i in lhs]\n",
        "    print(\"lhs is\",lhs)\n",
        "    print(\"rhs is\",rhs)\n",
        "    rhs=[expand(i) for i in rhs]\n",
        "    if lhs==rhs:\n",
        "        print(\"The given T is linear\")\n",
        "    else:\n",
        "        print(\"The given T is not linear\")\n",
        "linear(T,n=2)"
      ]
    },
    {
      "cell_type": "markdown",
      "id": "d6cb8060",
      "metadata": {
        "id": "d6cb8060"
      },
      "source": [
        "**Experiment 4 a) Finding matrix of linear transformation\n",
        "<br>\n",
        "b)Finding linear transformation from matrix**"
      ]
    },
    {
      "cell_type": "code",
      "execution_count": 5,
      "id": "9d25c14c",
      "metadata": {
        "colab": {
          "base_uri": "https://localhost:8080/",
          "height": 79
        },
        "id": "9d25c14c",
        "outputId": "c7db6c9b-714b-462f-9e1c-f5253bc366da"
      },
      "outputs": [
        {
          "output_type": "display_data",
          "data": {
            "text/plain": [
              "Matrix([\n",
              "[-2.75,  8.5, -1.88],\n",
              "[ -1.5,  1.0, -2.75],\n",
              "[ 0.75, -0.5,  1.88]])"
            ],
            "text/latex": "$\\displaystyle \\left[\\begin{matrix}-2.75 & 8.5 & -1.88\\\\-1.5 & 1.0 & -2.75\\\\0.75 & -0.5 & 1.88\\end{matrix}\\right]$"
          },
          "metadata": {}
        }
      ],
      "source": [
        "def T(x):\n",
        "    x1=x[0]\n",
        "    x2=x[1]\n",
        "    x3=x[2]\n",
        "    return np.array([x1-x2+x3,2*x1+3*x2-0.5*x3,x1+x2-2*x3])\n",
        "\n",
        "b1=np.array([[-1,1,0],[5,-1,2],[1,2,1]])\n",
        "b2=np.array([[1,1,0],[0,0,1],[1,5,2]])\n",
        "\n",
        "n=3\n",
        "variables=sp.symbols(f'a:{n}')\n",
        "m=0\n",
        "for i,var in enumerate(variables):\n",
        "    m=m+var*b2[i]\n",
        "\n",
        "tv=[]\n",
        "for i in b1:\n",
        "    tv.append(T(i))\n",
        "\n",
        "coef=[]\n",
        "for i in tv:\n",
        "    eq=i-m\n",
        "    scalars=sp.solve(eq,variables)\n",
        "    coef.append(scalars)\n",
        "\n",
        "matrix=[]\n",
        "for dictionary in coef:\n",
        "    column=[]\n",
        "    for key in dictionary:\n",
        "        column.append(round(dictionary[key],2))\n",
        "    matrix.append(column)\n",
        "\n",
        "display(Matrix(matrix).transpose())\n",
        ""
      ]
    },
    {
      "cell_type": "code",
      "execution_count": 6,
      "id": "5adeb9c6",
      "metadata": {
        "colab": {
          "base_uri": "https://localhost:8080/"
        },
        "id": "5adeb9c6",
        "outputId": "0f73d030-69fe-49cc-8fe2-d76b84a84887"
      },
      "outputs": [
        {
          "output_type": "stream",
          "name": "stdout",
          "text": [
            "The images of the ordered basis vectors in the B1 under the transformation are [2 4] [3 -5]\n",
            "The coordinates of the vector (x,y) wuth respect to B1 are x/2 - y/2 and x/2 + y/2\n",
            "The linear transformation of T is T(x,y)= (5*x/2 + y/2, -x/2 - 9*y/2)\n"
          ]
        }
      ],
      "source": [
        "a,c1,c2,x,y=symbols('a c1 c2 x y')\n",
        "A=Matrix([[2,3],[4,-5]])\n",
        "u1=np.array([1,-1])\n",
        "u2=np.array([1,1])\n",
        "v1=np.array([1,0])\n",
        "v2=np.array([0,1])\n",
        "\n",
        "T0=[A[0,0]*v1,A[1,0]*v2]\n",
        "T1=[A[0,1]*v1,A[1,1]*v2]\n",
        "sumTo=T0[0]+T0[1]\n",
        "sumT1=T1[0]+T1[1]\n",
        "\n",
        "print(\"The images of the ordered basis vectors in the B1 under the transformation are\",sumTo,sumT1)\n",
        "\n",
        "eq=np.array([u1[0]*c1+u2[0]*c2,u1[1]*c1+u2[1]*c2])\n",
        "p,q=eq[0],eq[1]\n",
        "a=solve((p-x,q-y),c1,c2,dict=True)\n",
        "c1,c2=a[0][c1],a[0][c2]\n",
        "\n",
        "print(\"The coordinates of the vector (x,y) wuth respect to B1 are\",c1,\"and\",c2)\n",
        "\n",
        "t=sumTo*c1+sumT1*c2\n",
        "print(\"The linear transformation of T is T(x,y)=\",tuple(t))"
      ]
    },
    {
      "cell_type": "markdown",
      "id": "0c3b2c1a",
      "metadata": {
        "id": "0c3b2c1a"
      },
      "source": [
        "**5. Rank Nullity Theorem**"
      ]
    },
    {
      "cell_type": "code",
      "execution_count": 7,
      "id": "687ff951",
      "metadata": {
        "colab": {
          "base_uri": "https://localhost:8080/"
        },
        "id": "687ff951",
        "outputId": "792ae9ed-fbd0-47fd-9db7-57946f230ca0"
      },
      "outputs": [
        {
          "output_type": "stream",
          "name": "stdout",
          "text": [
            "The range of M is Matrix([[1, 0, -1], [0, 1, 1], [0, 0, 0]])\n",
            "The nullspace of M is Matrix([[-1], [-1], [1]])\n",
            "The rank-nullity theorem holds good\n"
          ]
        }
      ],
      "source": [
        "def rank_nullity(M,dim):\n",
        "    rank=M.rank()\n",
        "    R=M.rref()\n",
        "    print(\"The range of M is\",R[0])\n",
        "    N=M.transpose().nullspace()\n",
        "    if N==[]:\n",
        "        nullity=0\n",
        "        print(\"The nullspace is 0\")\n",
        "    else:\n",
        "        print(\"The nullspace of M is\",N[0])\n",
        "        nullity=len(N)\n",
        "    if dim==rank+nullity:\n",
        "        print(\"The rank-nullity theorem holds good\")\n",
        "    else:\n",
        "        print(\"The rank-nullity theoren does not hold\")\n",
        "\n",
        "M=sp.Matrix([[1,1,0],[0,1,1],[1,2,1]])\n",
        "rank_nullity(M,3)"
      ]
    },
    {
      "cell_type": "markdown",
      "id": "9ce4724b",
      "metadata": {
        "id": "9ce4724b"
      },
      "source": [
        "**6. Solutions to the problem on different types (I,II,III,IV) of Partial Differntial Equations**"
      ]
    },
    {
      "cell_type": "code",
      "execution_count": 8,
      "id": "948b2615",
      "metadata": {
        "colab": {
          "base_uri": "https://localhost:8080/"
        },
        "id": "948b2615",
        "outputId": "386f14d2-a204-437a-b46e-6c249c073d2e"
      },
      "outputs": [
        {
          "output_type": "stream",
          "name": "stdout",
          "text": [
            "The solution is z=ax+[1 - a]y+c\n",
            "The solution is z=C1\n",
            "The solution is z=a*x + a*y - x**2/2 - y**2/2\n",
            "The solution is z=a*x + b*y + log(a*b)\n"
          ]
        }
      ],
      "source": [
        "from sympy.abc import x,y,z,a,b,p,q,u,c\n",
        "\n",
        "def type_one(eq):\n",
        "    eq=eq.subs(p,a).subs(q,b)\n",
        "    sol=sp.solve(eq,b)\n",
        "    return (f\"The solution is z=ax+{sol}{y}+c\")\n",
        "\n",
        "def type_two(eq):\n",
        "    z=Function('z')(u)\n",
        "    p1=diff(z,u)\n",
        "    q1=a*diff(z,u)\n",
        "    eq=eq.subs(p,p1).subs(q,q1)\n",
        "    h1=solve(eq,p1)[-1]\n",
        "    solution=dsolve(h1-p1,z).rhs.subs(u,x+a*y)\n",
        "    return f\"The solution is z={solution}\"\n",
        "\n",
        "def type_three(f1,f2):\n",
        "    r1=solve(f1-a,p)[-1]\n",
        "    r2=solve(f2-a,q)[-1]\n",
        "    z=integrate(r1,x)+integrate(r2,y)\n",
        "    return f\"The solution is z={z}\"\n",
        "\n",
        "def type_four(eq):\n",
        "    eq=eq.subs(p,a).subs(q,b)\n",
        "    return f\"The solution is z={eq}\"\n",
        "\n",
        "print(type_one(p+q-1))\n",
        "print(type_two(p-q*z))\n",
        "print(type_three(p+x,q+y))\n",
        "print(type_four(p*x+q*y+log(p*q)))"
      ]
    },
    {
      "cell_type": "markdown",
      "id": "8de053f7",
      "metadata": {
        "id": "8de053f7"
      },
      "source": [
        "**7. Solution to Total Differential Equations**"
      ]
    },
    {
      "cell_type": "code",
      "execution_count": 9,
      "id": "6ddcfead",
      "metadata": {
        "colab": {
          "base_uri": "https://localhost:8080/"
        },
        "id": "6ddcfead",
        "outputId": "2a576f35-d0e3-4b2b-cc61-12c5999b410a"
      },
      "outputs": [
        {
          "output_type": "stream",
          "name": "stdout",
          "text": [
            "The equation is integrable\n"
          ]
        }
      ],
      "source": [
        "def integrability(P,Q,R):\n",
        "    answer=P*(diff(Q,z)-diff(R,y))+Q*(diff(R,x)-diff(P,z))+R*(diff(P,y)-diff(Q,x))\n",
        "    answer=answer.simplify()\n",
        "    if answer==0:\n",
        "        print(\"The equation is integrable\")\n",
        "    else:\n",
        "        print(\"The equation is not integrable\")\n",
        "\n",
        "integrability(y+z,x+z,x+y)"
      ]
    },
    {
      "cell_type": "markdown",
      "id": "cdf6cb61",
      "metadata": {
        "id": "cdf6cb61"
      },
      "source": [
        "**8. Solution of one dimensional wave equation using Fourier Series with Dirichlet conditions**"
      ]
    },
    {
      "cell_type": "code",
      "execution_count": 10,
      "id": "c20911b7",
      "metadata": {
        "colab": {
          "base_uri": "https://localhost:8080/",
          "height": 56
        },
        "id": "c20911b7",
        "outputId": "37e38c52-32f0-46c8-abc7-ae680ca96a01"
      },
      "outputs": [
        {
          "output_type": "stream",
          "name": "stdout",
          "text": [
            "The solution of the given wave equation is \n"
          ]
        },
        {
          "output_type": "display_data",
          "data": {
            "text/plain": [
              "sin(x)*cos(t)"
            ],
            "text/latex": "$\\displaystyle \\sin{\\left(x \\right)} \\cos{\\left(t \\right)}$"
          },
          "metadata": {}
        }
      ],
      "source": [
        "from sympy import *\n",
        "from sympy.abc import x, t, c\n",
        "def wave(c, l, f, g):\n",
        "    sol = 0\n",
        "    for n in range(1, 4):\n",
        "        fn = (2/l)*integrate(f*sin(n*pi*x/l), (x, 0, l))\n",
        "        en = (2/(n*pi*c))*integrate(g*sin(n*pi*x/l), (x, 0, l))\n",
        "        sol+= (fn*cos(n*pi*c*t/l)+en*sin(n*pi*c*t/l))*sin(n*pi*x/l)\n",
        "    print(\"The solution of the given wave equation is \")\n",
        "    display(sol)\n",
        "\n",
        "wave(1,pi,sin(x),0)"
      ]
    }
  ],
  "metadata": {
    "kernelspec": {
      "display_name": "Python 3 (ipykernel)",
      "language": "python",
      "name": "python3"
    },
    "language_info": {
      "codemirror_mode": {
        "name": "ipython",
        "version": 3
      },
      "file_extension": ".py",
      "mimetype": "text/x-python",
      "name": "python",
      "nbconvert_exporter": "python",
      "pygments_lexer": "ipython3",
      "version": "3.11.5"
    },
    "colab": {
      "provenance": []
    }
  },
  "nbformat": 4,
  "nbformat_minor": 5
}