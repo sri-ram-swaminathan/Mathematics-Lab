{
  "cells": [
    {
      "cell_type": "code",
      "execution_count": 1,
      "id": "31199820",
      "metadata": {
        "id": "31199820"
      },
      "outputs": [],
      "source": [
        "from sympy import *\n",
        "from sympy.abc import x,y,z,t,i,j,k,a,b,c,r\n",
        "from numpy import dot\n",
        "import matplotlib.pyplot as plt\n",
        "from numpy import linspace"
      ]
    },
    {
      "cell_type": "markdown",
      "id": "4c782b34",
      "metadata": {
        "id": "4c782b34"
      },
      "source": [
        "**1. Evaluation of Double Integrals\n",
        "<br>\n",
        "a) Constant Limits\n",
        "<br>\n",
        "b) Variable Limits**"
      ]
    },
    {
      "cell_type": "code",
      "execution_count": 2,
      "id": "1807ccfb",
      "metadata": {
        "colab": {
          "base_uri": "https://localhost:8080/"
        },
        "id": "1807ccfb",
        "outputId": "5479a7ac-6c99-4fbf-9bb9-fd7c5ee2201d"
      },
      "outputs": [
        {
          "output_type": "stream",
          "name": "stdout",
          "text": [
            "1.5\n",
            "2.067\n"
          ]
        }
      ],
      "source": [
        "def Integrate_2(f,xo,x1,yo,y1):\n",
        "    return round(float(integrate(f,(y,yo,y1),(x,xo,x1))),3)\n",
        "\n",
        "print(Integrate_2(y*sin(x),0,pi/2,-1,2))\n",
        "\n",
        "print(Integrate_2(x*y**2,1,2,0,x))"
      ]
    },
    {
      "cell_type": "markdown",
      "id": "cfafa429",
      "metadata": {
        "id": "cfafa429"
      },
      "source": [
        "**1. Evaluation of Triple Integrals\n",
        "<br>\n",
        "a) Constant Limits\n",
        "<br>\n",
        "b) Variable Limits**"
      ]
    },
    {
      "cell_type": "code",
      "execution_count": 3,
      "id": "89195ca1",
      "metadata": {
        "colab": {
          "base_uri": "https://localhost:8080/"
        },
        "id": "89195ca1",
        "outputId": "f08d99bb-b3cb-418e-cafa-3d441c769ed4"
      },
      "outputs": [
        {
          "output_type": "stream",
          "name": "stdout",
          "text": [
            "1.0\n",
            "0.107\n"
          ]
        }
      ],
      "source": [
        "def Integrate_3(f,xo,x1,yo,y1,zo,z1):\n",
        "    return round(float(integrate(f,(z,zo,z1),(y,yo,y1),(x,xo,x1))),3)\n",
        "\n",
        "print(Integrate_3(x**2+y**2+z**2,0,1,0,1,0,1))\n",
        "\n",
        "print(Integrate_3((x*y),0,1,x**2,sqrt(x),0,x+y))"
      ]
    },
    {
      "cell_type": "markdown",
      "id": "66a0f104",
      "metadata": {
        "id": "66a0f104"
      },
      "source": [
        "**3. Evaluating Line Integrals**"
      ]
    },
    {
      "cell_type": "code",
      "execution_count": 4,
      "id": "4396afc3",
      "metadata": {
        "colab": {
          "base_uri": "https://localhost:8080/"
        },
        "id": "4396afc3",
        "outputId": "bbdbf350-72cf-4a93-d71c-a1d4c4e07369"
      },
      "outputs": [
        {
          "output_type": "stream",
          "name": "stdout",
          "text": [
            "sqrt(2)\n"
          ]
        }
      ],
      "source": [
        "var=[x,y,z]\n",
        "\n",
        "def line(f,R,a,b):\n",
        "    n=len(R)\n",
        "    for i in range(n):\n",
        "        f=f.subs(var[i],R[i])\n",
        "    dsdt=0\n",
        "    for i in range(n):\n",
        "        dsdt+=(diff(R[i],t)**2)\n",
        "    eq=f*sqrt(dsdt)\n",
        "    return integrate(eq,(t,a,b))\n",
        "\n",
        "print(line((x+y),[t,1-t,0],0,1))"
      ]
    },
    {
      "cell_type": "markdown",
      "id": "c4d85cdd",
      "metadata": {
        "id": "c4d85cdd"
      },
      "source": [
        "**4. Evaluating Area and Volume using Multiple Integrals**"
      ]
    },
    {
      "cell_type": "code",
      "execution_count": 5,
      "id": "a5f834a8",
      "metadata": {
        "colab": {
          "base_uri": "https://localhost:8080/"
        },
        "id": "a5f834a8",
        "outputId": "497c02c7-3b61-46ed-e4dd-30d2bceaf761"
      },
      "outputs": [
        {
          "output_type": "stream",
          "name": "stdout",
          "text": [
            "9/2\n",
            "2/3\n"
          ]
        }
      ],
      "source": [
        "def Integrate_2(f,xo,x1,yo,y1):\n",
        "    return integrate(f,(x,xo,x1),(y,yo,y1))\n",
        "\n",
        "def Integrate_3(f,xo,x1,yo,y1,zo,z1):\n",
        "    return integrate(f,(x,xo,x1),(y,yo,y1),(z,zo,z1))\n",
        "\n",
        "print(Integrate_2(1,y-2,(-y**2),-2,1))\n",
        "\n",
        "print(Integrate_3(1,0,1-z,0,2-2*z,0,1))"
      ]
    },
    {
      "cell_type": "markdown",
      "id": "0af682bf",
      "metadata": {
        "id": "0af682bf"
      },
      "source": [
        "**5. Computing Surface Area using double integral**"
      ]
    },
    {
      "cell_type": "code",
      "execution_count": 6,
      "id": "2820deb7",
      "metadata": {
        "scrolled": false,
        "colab": {
          "base_uri": "https://localhost:8080/",
          "height": 57
        },
        "id": "2820deb7",
        "outputId": "2cf6de41-278f-43df-e54d-47f7ebecd040"
      },
      "outputs": [
        {
          "output_type": "execute_result",
          "data": {
            "text/plain": [
              "pi*(-1 + 17*sqrt(17))/6"
            ],
            "text/latex": "$\\displaystyle \\frac{\\pi \\left(-1 + 17 \\sqrt{17}\\right)}{6}$"
          },
          "metadata": {},
          "execution_count": 6
        }
      ],
      "source": [
        "def surface_area(F,p,r0,r1,t0,t1):\n",
        "    F1=[F.diff(x),F.diff(y),F.diff(z)]\n",
        "    gradF=sqrt(F.diff(x)**2+F.diff(y)**2+F.diff(z)**2)\n",
        "    Fp=sqrt(dot(F1,p)**2)\n",
        "    f=gradF/Fp\n",
        "    if p==[1,0,0]:\n",
        "        f1=f.subs([(y,r*cos(t)),(z,r*sin(t))])\n",
        "    elif p==[0,1,0]:\n",
        "        f1=f.subs([(z,r*cos(t)),(x,r*sin(t))])\n",
        "    else:\n",
        "        f1=f.subs([(x,r*cos(t)),(y,r*sin(t))]).simplify()\n",
        "    return integrate(f1*r,(r,r0,r1),(t,t0,t1)).simplify()\n",
        "\n",
        "surface_area(x**2+y**2-z,[0,0,1],0,2,0,2*pi)"
      ]
    },
    {
      "cell_type": "markdown",
      "id": "1be99515",
      "metadata": {
        "id": "1be99515"
      },
      "source": [
        "**6. Verifying Green's Theorem**"
      ]
    },
    {
      "cell_type": "code",
      "execution_count": 7,
      "id": "0a00aaa0",
      "metadata": {
        "colab": {
          "base_uri": "https://localhost:8080/"
        },
        "id": "0a00aaa0",
        "outputId": "b67fdd5a-9f19-44e8-b4d4-f2d0eb5f2a4f"
      },
      "outputs": [
        {
          "output_type": "stream",
          "name": "stdout",
          "text": [
            "LHS is 2*pi\n",
            "RHS is 2*pi\n",
            "Green's Theorem is verified\n"
          ]
        }
      ],
      "source": [
        "def line(F,valx,valy,t0,t1):\n",
        "    F=F.subs(x,valx).subs(y,valy)\n",
        "    dx=diff(valx,t)\n",
        "    dy=diff(valy,t)\n",
        "    Fdr=F.coeff(i)*dx+F.coeff(j)*dy\n",
        "    return integrate(Fdr,(t,t0,t1))\n",
        "\n",
        "def surface(M,N,x0,x1,y0,y1):\n",
        "    Nx=diff(N,x)\n",
        "    My=diff(M,y)\n",
        "    eq=(Nx-My).simplify()\n",
        "    return integrate(eq,(x,x0,x1),(y,y0,y1))\n",
        "\n",
        "a=line((x-y)*i+x*j,cos(t),sin(t),0,2*pi)\n",
        "b=surface(x-y,x,-sqrt(1-y**2),sqrt(1-y**2),-1,1)\n",
        "\n",
        "if a==b:\n",
        "    print(\"LHS is\",a)\n",
        "    print(\"RHS is\",b)\n",
        "    print(\"Green's Theorem is verified\")"
      ]
    },
    {
      "cell_type": "markdown",
      "id": "47c74f62",
      "metadata": {
        "id": "47c74f62"
      },
      "source": [
        "**7. Verifying Gauss Divergence Theorem**"
      ]
    },
    {
      "cell_type": "code",
      "execution_count": 8,
      "id": "f750fe92",
      "metadata": {
        "colab": {
          "base_uri": "https://localhost:8080/"
        },
        "id": "f750fe92",
        "outputId": "65791a79-e700-477e-d871-d58746ea5226"
      },
      "outputs": [
        {
          "output_type": "stream",
          "name": "stdout",
          "text": [
            "LHS is 4*pi**2*c*(c + 4*pi)\n",
            "RHS is 4*pi**2*c*(c + 4*pi)\n",
            "Gauss Divergence Theorem is verified\n"
          ]
        }
      ],
      "source": [
        "def surface(F,n,lim1i,lim1f,lim2i,lim2f):\n",
        "    Fn=(F.coeff(i)*n.coeff(i)+F.coeff(j)*n.coeff(j)+F.coeff(k)*n.coeff(k)).simplify()\n",
        "    if n==k or n==-k:\n",
        "        return integrate(Fn,(x,lim1i,lim1f),(y,lim2i,lim2f))\n",
        "    elif n==i or n==-i:\n",
        "        return integrate(Fn,(y,lim1i,lim1f),(z,lim2i,lim2f))\n",
        "    else:\n",
        "        return integrate(Fn,(x,lim1i,lim1f),(z,lim2i,lim2f))\n",
        "\n",
        "def volume(F,x0,x1,y0,y1,z0,z1):\n",
        "    divF=(diff(F.coeff(i),x)+diff(F.coeff(j),y)+diff(F.coeff(k),z)).simplify()\n",
        "    sol=integrate(divF,(x,x0,x1),(y,y0,y1),(z,z0,z1)).simplify()\n",
        "    return sol\n",
        "\n",
        "s1=surface((x**2-0*z)*i+(0**2-x*z)*j+(z**2-0*x)*k,-j,0,a,0,c)\n",
        "s2=surface((x**2-b*z)*i+(b**2-x*z)*j+(z**2-b*x)*k,j,0,a,0,c)\n",
        "s3=surface((x**2-y*0)*i+(y**2-x*0)*j+(0**2-y*x)*k,-k,0,a,0,b)\n",
        "s4=surface((x**2-y*c)*i+(y**2-x*c)*j+(c**2-y*x)*k,k,0,a,0,b)\n",
        "s5=surface((0**2-y*z)*i+(y**2-0*z)*j+(z**2-y*0)*k,-i,0,b,0,c)\n",
        "s6=surface((a**2-y*z)*i+(y**2-a*z)*j+(z**2-y*a)*k,i,0,b,0,c)\n",
        "v=volume((x**2-y*z)*i+(y**2-x*z)*j+(z**2-y*x)*k,0,a,0,b,0,c)\n",
        "print(\"LHS is\",(s1+s2+s3+s4+s5+s6).simplify())\n",
        "print(\"RHS is\",v)\n",
        "if (s1+s2+s3+s4+s5+s6).simplify()==v:\n",
        "    print(\"Gauss Divergence Theorem is verified\")"
      ]
    },
    {
      "cell_type": "markdown",
      "source": [
        "**8. Computing Darboux Sums**"
      ],
      "metadata": {
        "id": "WuC-k8Um43Os"
      },
      "id": "WuC-k8Um43Os"
    },
    {
      "cell_type": "code",
      "source": [
        "def increasing(f,p):\n",
        "  sum_lower=0\n",
        "  sum_upper=0\n",
        "  f1=[f.subs(x,i) for i in p]\n",
        "  for i in range(len(p)-1):\n",
        "    sum_lower += f1[i]*(p[i+1]-p[i])\n",
        "    sum_upper += f1[i+1]*(p[i+1]-p[i])\n",
        "  print(f\"The Lower Sum is {sum_lower:0.5f}\")\n",
        "  print(f\"The Upper Sum is {sum_upper:0.5f}\")\n",
        "\n",
        "  f2 = [f.subs(x,k) for k in linspace(p[0],p[-1])]\n",
        "  plt.plot(linspace(p[0],p[-1]), f2, color='black')\n",
        "\n",
        "  w_lower = [p[i+1]-p[i] for i in range(len(p)-1)]\n",
        "  plt.bar(p[:-1], f1[:-1], width=w_lower, align='edge', alpha=0.3, edgecolor='b', color='b', label='lower')\n",
        "\n",
        "\n",
        "  w_upper = [-(p[i+1]-p[i]) for i in range(len(p)-1)]\n",
        "  plt.bar(p[1:], f1[1:], width=w_upper, align='edge', alpha=0.3, edgecolor='r', color='r', label='upper')\n",
        "  plt.title(f\"Lower and Upper sums for {f} in [{p[0]:0.2f},{p[-1]:0.2f}]\")\n",
        "  plt.legend()\n",
        "\n",
        "increasing(exp(x),[0,1,2,3,4,5])"
      ],
      "metadata": {
        "colab": {
          "base_uri": "https://localhost:8080/",
          "height": 487
        },
        "id": "cOCoveXQ4_6l",
        "outputId": "2f753c21-ce17-4593-a91b-575fc3c422eb"
      },
      "id": "cOCoveXQ4_6l",
      "execution_count": 9,
      "outputs": [
        {
          "output_type": "stream",
          "name": "stdout",
          "text": [
            "The Lower Sum is 85.79102\n",
            "The Upper Sum is 233.20418\n"
          ]
        },
        {
          "output_type": "display_data",
          "data": {
            "text/plain": [
              "<Figure size 640x480 with 1 Axes>"
            ],
            "image/png": "[encoded data removed]"
          },
          "metadata": {}
        }
      ]
    },
    {
      "cell_type": "code",
      "source": [
        "def decreasing(f,p):\n",
        "  sum_lower=0\n",
        "  sum_upper=0\n",
        "  f1=[f.subs(x,i) for i in p]\n",
        "  for i in range(len(p)-1):\n",
        "    sum_upper += f1[i]*(p[i+1]-p[i])\n",
        "    sum_lower += f1[i+1]*(p[i+1]-p[i])\n",
        "  print(f\"The Lower Sum is {sum_lower:0.5f}\")\n",
        "  print(f\"The Upper Sum is {sum_upper:0.5f}\")\n",
        "\n",
        "  f2 = [f.subs(x,k) for k in linspace(p[0],p[-1])]\n",
        "  plt.plot(linspace(p[0],p[-1]), f2, color='black')\n",
        "\n",
        "  w_upper = [p[i+1]-p[i] for i in range(len(p)-1)]\n",
        "  plt.bar(p[:-1], f1[:-1], width=w_upper, align='edge', alpha=0.3, edgecolor='b', color='b', label='upper')\n",
        "\n",
        "  w_lower = [-(p[i+1]-p[i]) for i in range(len(p)-1)]\n",
        "  plt.bar(p[1:], f1[1:], width=w_lower, align='edge', alpha=0.3, edgecolor='r', color='r', label='lower')\n",
        "  plt.title(f\"Lower and Upper sums for {f} in [{p[0]:0.2f},{p[-1]:0.2f}]\")\n",
        "  plt.legend()\n",
        "\n",
        "decreasing(exp(-x),[0,1,2,3,4,5])"
      ],
      "metadata": {
        "colab": {
          "base_uri": "https://localhost:8080/",
          "height": 487
        },
        "id": "4jDrxXOd5KOe",
        "outputId": "a791ee77-ec21-4b8d-e457-4b9b5b235d98"
      },
      "id": "4jDrxXOd5KOe",
      "execution_count": 10,
      "outputs": [
        {
          "output_type": "stream",
          "name": "stdout",
          "text": [
            "The Lower Sum is 0.57806\n",
            "The Upper Sum is 1.57132\n"
          ]
        },
        {
          "output_type": "display_data",
          "data": {
            "text/plain": [
              "<Figure size 640x480 with 1 Axes>"
            ],
            "image/png": "[encoded data removed]"
          },
          "metadata": {}
        }
      ]
    }
  ],
  "metadata": {
    "kernelspec": {
      "display_name": "Python 3 (ipykernel)",
      "language": "python",
      "name": "python3"
    },
    "language_info": {
      "codemirror_mode": {
        "name": "ipython",
        "version": 3
      },
      "file_extension": ".py",
      "mimetype": "text/x-python",
      "name": "python",
      "nbconvert_exporter": "python",
      "pygments_lexer": "ipython3",
      "version": "3.11.5"
    },
    "colab": {
      "provenance": []
    }
  },
  "nbformat": 4,
  "nbformat_minor": 5
}