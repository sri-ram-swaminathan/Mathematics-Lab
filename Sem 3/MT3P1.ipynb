{
  "metadata": {
    "kernelspec": {
      "name": "python",
      "display_name": "Python (Pyodide)",
      "language": "python"
    },
    "language_info": {
      "codemirror_mode": {
        "name": "python",
        "version": 3
      },
      "file_extension": ".py",
      "mimetype": "text/x-python",
      "name": "python",
      "nbconvert_exporter": "python",
      "pygments_lexer": "ipython3",
      "version": "3.8"
    }
  },
  "nbformat_minor": 4,
  "nbformat": 4,
  "cells": [
    {
      "cell_type": "code",
      "source": "from sympy import *\nfrom sympy.abc import a,n,s,t,x",
      "metadata": {
        "trusted": true
      },
      "outputs": [],
      "execution_count": 1
    },
    {
      "cell_type": "markdown",
      "source": "**1. Illustration of convergent, divergent and oscillatory sequences.**",
      "metadata": {}
    },
    {
      "cell_type": "code",
      "source": "def nature(seqi):\n    l = limit_seq(seqi)\n    if l == oo or l == -oo:\n        print(\"The sequence\",seqi,\"diverges to\",l)\n    elif l.is_number:\n        print(\"The sequence\",seqi,\"converges to\",l)\n    else:\n        print(\"The sequence\",seqi,\"oscillates between\",l)\n\nnature((3*n+4)/(2*n+1))\nnature(n)\nnature((-1)**n)",
      "metadata": {
        "trusted": true
      },
      "outputs": [
        {
          "name": "stdout",
          "text": "The sequence (3*n + 4)/(2*n + 1) converges to 3/2\nThe sequence n diverges to oo\nThe sequence (-1)**n oscillates between AccumBounds(-1, 1)\n",
          "output_type": "stream"
        }
      ],
      "execution_count": 2
    },
    {
      "cell_type": "markdown",
      "source": "**2. Solving Homogenous Linear Differential Equations with constant coefficients.**",
      "metadata": {}
    },
    {
      "cell_type": "code",
      "source": "y = Function('y')(x)\ny1= y.diff(x)\ny2= y.diff(x,2)\ny3= y.diff(x,3)\ny4= y.diff(x,4)\ndef hlde(de):\n    sl= dsolve(de)\n    print(\"The solution is y =\",sl.rhs)\n\nhlde(y3 + 6*y2 + 11*y1 + 6*y)",
      "metadata": {
        "trusted": true
      },
      "outputs": [
        {
          "name": "stdout",
          "text": "The solution is y = (C1 + C2*exp(-2*x) + C3*exp(-x))*exp(-x)\n",
          "output_type": "stream"
        }
      ],
      "execution_count": 3
    },
    {
      "cell_type": "markdown",
      "source": "**3. Solving Non-Homogeneous Linear Differential Equations with constant coefficients.**",
      "metadata": {}
    },
    {
      "cell_type": "code",
      "source": "y1= y.diff(x)\ny2= y.diff(x,2)\ny3= y.diff(x,3)\ndef nhlde(de):\n    sl= dsolve(de)\n    print(\"The solution is y =\",sl.rhs)\n\nnhlde(y2 - 6*y1 + 9*y -3 *exp(-4*x))",
      "metadata": {
        "trusted": true
      },
      "outputs": [
        {
          "name": "stdout",
          "text": "The solution is y = (C1 + C2*x)*exp(3*x) + 3*exp(-4*x)/49\n",
          "output_type": "stream"
        }
      ],
      "execution_count": 4
    },
    {
      "cell_type": "markdown",
      "source": "**4. a) Solving Linear Differential Equations with variable coefficients when part of Complemetary Function is given. \n     <br>\n     b) Solving Linear Differential Equations with variable coefficients using Changing Independent Variable method.**",
      "metadata": {}
    },
    {
      "cell_type": "code",
      "source": "v=Function('v')(x)\nIF=0\ndef ldev(p,q,r):\n    if 1+p+q==0:\n        IF= exp(x)\n    elif 1-p+q==0:\n        IF= -exp(x)\n    elif a**2+a*p+q==0:\n        IF= exp(a*x)\n    elif expand(p+q*x)==0:\n        IF= x\n    elif expand(2+2*p*x+q*x**2)==0:\n        IF= x**2\n    if IF:\n        print(\"The integral of CF is =\",IF)\n        eqn= diff(v,x,2) + (p + (2/IF)*(diff(IF,x,1)))*diff(v,x,1) - (r/IF)\n        sol= dsolve(eqn)\n        print(\"y =\",sol.rhs*IF)\n    else:\n        print(\"There is no integral of CF\")\n\nldev(-cot(x),cot(x)-1,exp(x)*sin(x))\n\nz = Function('z')(x)\np = cot(x)\nq = 4/(sin(x))**2\nr = 0\nsolz = dsolve((z.diff(x)**2)-q)[0].rhs\nsolz = solz.subs('C1',0)\nz = Symbol('z')\np1 = ((solz.diff(x,2)+p*solz.diff(x))/(solz.diff(x)**2)).simplify()\np1 = p1.replace(solz,z)\nq1 = (q/(solz.diff(x)**2)).simplify()\nq1 = q1.replace(solz,z)\nr1 = (r/(solz.diff(x)**2)).simplify()\nr1 = r1.replace(solz,z)\ny = Function('y')(z)\nneq = y.diff(z,2)+p1*y.diff(z)+q1*y-r1\nsol = dsolve(neq,y).rhs\nprint(sol.subs(z,solz))",
      "metadata": {
        "trusted": true
      },
      "outputs": [
        {
          "name": "stdout",
          "text": "The integral of CF is = exp(x)\ny = (C1 - 2*C2*exp(-2*x)*sin(x)/5 - C2*exp(-2*x)*cos(x)/5 - cos(x)/2)*exp(x)\nC1*sin(log(cos(x) - 1) - log(cos(x) + 1)) + C2*cos(log(cos(x) - 1) - log(cos(x) + 1))\n",
          "output_type": "stream"
        }
      ],
      "execution_count": 5
    },
    {
      "cell_type": "markdown",
      "source": "**5. a) Solving Linear Differential Equations with variable coefficients using Changing Dependent Variable method. \n    <br>\n    b) Solving Linear Differential Equations with variable coefficients using Variation of Parameters method.**",
      "metadata": {}
    },
    {
      "cell_type": "code",
      "source": "v = Function('v')(x)\np = -4*x\nq = 4*x**2-1\nr = -3*exp(x**2)*sin(2*x)\nu = exp((-1/2)*integrate(p,x))\nI = q-((1/4)*(p**2))-((1/2)*p.diff(x))\nS = r/u\nif I.is_real:\n    I = int(I)\neq = (v.diff(x,2)+I*v-S).simplify()\nsol = dsolve(eq,v).rhs\ndisplay(u*sol)\n\nC1 = Symbol('C1')\nC2 = Symbol('C2')\ny = Function('y')(x)\ndef VarOfPar(P,Q,R):\n    eq = y.diff(x,2)+P*y.diff(x)+Q*y-R\n    CF = dsolve(eq).rhs.expand()\n    u = CF.coeff(C1)\n    v = CF.coeff(C2)\n    W = wronskian([u,v],x).simplify()\n    f = -(v*R/W).integrate(x)\n    g = (u*R/W).integrate(x)\n    PI = (u*f+v*g).simplify()\n    sol = (CF+PI).simplify()\n    return sol\n\nVarOfPar(0,4,4*tan(2*x))",
      "metadata": {
        "trusted": true
      },
      "outputs": [
        {
          "output_type": "display_data",
          "data": {
            "text/plain": "(C1*sin(x) + C2*cos(x) + sin(2*x))*exp(1.0*x**2)",
            "text/latex": "$\\displaystyle \\left(C_{1} \\sin{\\left(x \\right)} + C_{2} \\cos{\\left(x \\right)} + \\sin{\\left(2 x \\right)}\\right) e^{1.0 x^{2}}$"
          },
          "metadata": {}
        },
        {
          "execution_count": 6,
          "output_type": "execute_result",
          "data": {
            "text/plain": "C1*cos(2*x) + C2*sin(2*x) + log(sin(2*x) - 1)*cos(2*x) - log(sin(2*x) + 1)*cos(2*x)",
            "text/latex": "$\\displaystyle C_{1} \\cos{\\left(2 x \\right)} + C_{2} \\sin{\\left(2 x \\right)} + \\log{\\left(\\sin{\\left(2 x \\right)} - 1 \\right)} \\cos{\\left(2 x \\right)} - \\log{\\left(\\sin{\\left(2 x \\right)} + 1 \\right)} \\cos{\\left(2 x \\right)}$"
          },
          "metadata": {}
        }
      ],
      "execution_count": 6
    },
    {
      "cell_type": "markdown",
      "source": "**6. Coset decomposition.**",
      "metadata": {}
    },
    {
      "cell_type": "code",
      "source": "G={0,1,2,3,4,5,6,7,8}\nH={0,3,6}\nn=9\nF=[]\nx=len(G)\nfor g in G:\n    c=[]\n    for h in H:\n        c.append((g+h)%n)\n    c.sort()\n    if c not in F:\n        F.append(c)\nprint(F)",
      "metadata": {
        "trusted": true
      },
      "outputs": [
        {
          "name": "stdout",
          "text": "[[0, 3, 6], [1, 4, 7], [2, 5, 8]]\n",
          "output_type": "stream"
        }
      ],
      "execution_count": 7
    },
    {
      "cell_type": "markdown",
      "source": "**7. a) Lagrange's Theorem \n<br>\nb) Fermat's Little Theorem**",
      "metadata": {}
    },
    {
      "cell_type": "code",
      "source": "def add_mod(a,b,n):\n    return(a+b)%n\n\ndef Lagrange_Theorem(ordG,cardH):\n    if ordG%cardH==0:\n        return True\n    return False\n\ndef Check_Closure(G,H,n):\n    Hy = {add_mod(a,b,n) for a in H for b in H}\n    if Hy==H:\n        return True\n    return False\n\ndef Check_Subgroup(G,H,n):\n    if Lagrange_Theorem(len(G),len(H)):\n        if Check_Closure(G,H,n):\n            print(H,'is a subgroup of',G)\n        else:\n            print(\"Lagrange's Theorem is satisfied, but\",H,\"is not a subgroup of\",G)\n    else:\n        print(\"Lagrange's Theorem is not satisfied and \",H,\"is not a subgroup of\",G)\n\nG = {0,1,2,3,4,5,6,7}\nH1={0,1,2,4,6}\nH2 = {0,2,4,6}\nH3={1,2,4,7}\n\nCheck_Subgroup(G,H1,8)\nCheck_Subgroup(G,H2,8)\nCheck_Subgroup(G,H3,8)\n\na=2\nn=100\nfor i in range (1,n+1):\n    p = prime(i)\n    if a**p%p!=a%p:\n        print(\"Fermat's Little Theorem Fails for a =\",a,\"p =\",p)\n\nprint(\"Fermats Little Theorem is satisfied for first\",n,\"primes for a =\",a)",
      "metadata": {
        "trusted": true
      },
      "outputs": [
        {
          "name": "stdout",
          "text": "Lagrange's Theorem is not satisfied and  {0, 1, 2, 4, 6} is not a subgroup of {0, 1, 2, 3, 4, 5, 6, 7}\n{0, 2, 4, 6} is a subgroup of {0, 1, 2, 3, 4, 5, 6, 7}\nLagrange's Theorem is satisfied, but {1, 2, 4, 7} is not a subgroup of {0, 1, 2, 3, 4, 5, 6, 7}\nFermats Little Theorem is satisfied for first 100 primes for a = 2\n",
          "output_type": "stream"
        }
      ],
      "execution_count": 8
    },
    {
      "cell_type": "markdown",
      "source": "**8. a) Laplace Transformation. \n<br>\n    b) Inverse Laplace Transformation.**",
      "metadata": {}
    },
    {
      "cell_type": "code",
      "source": "u=laplace_transform(simplify((1+t)**3),t,s,noconds=True)\nprint(\"The Laplace transform of the given function is \",u)\n\nu=inverse_laplace_transform(simplify(1/(s+3)**3),s,t)\nprint(\"The Inverse Laplace transform of the given function is \",u)",
      "metadata": {
        "trusted": true
      },
      "outputs": [
        {
          "name": "stdout",
          "text": "The Laplace transform of the given function is  (-6*(s**3/6 + s**2/2 + s + 1)*exp(-s) + 6)*exp(-s)/s**4\nThe Inverse Laplace transform of the given function is  t**2*exp(-3*t)*Heaviside(t)/2\n",
          "output_type": "stream"
        }
      ],
      "execution_count": 9
    }
  ]
}