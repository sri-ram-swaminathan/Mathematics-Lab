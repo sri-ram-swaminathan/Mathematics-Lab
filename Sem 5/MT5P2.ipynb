{
  "metadata": {
    "kernelspec": {
      "name": "python",
      "display_name": "Python (Pyodide)",
      "language": "python"
    },
    "language_info": {
      "codemirror_mode": {
        "name": "python",
        "version": 3
      },
      "file_extension": ".py",
      "mimetype": "text/x-python",
      "name": "python",
      "nbconvert_exporter": "python",
      "pygments_lexer": "ipython3",
      "version": "3.8"
    }
  },
  "nbformat_minor": 4,
  "nbformat": 4,
  "cells": [
    {
      "cell_type": "code",
      "source": "from sympy import *\nfrom sympy.abc import x,y,z,r,theta,phi,i,j,k,z",
      "metadata": {
        "trusted": true
      },
      "outputs": [],
      "execution_count": 1
    },
    {
      "cell_type": "markdown",
      "source": "**1. Problems on Cauchy-Riemann equations in cartesian and polar form.**",
      "metadata": {}
    },
    {
      "cell_type": "code",
      "source": "def CR_cartesian(u,v):\n    ux=u.diff(x).simplify()\n    uy=u.diff(y).simplify()\n    vx=v.diff(x).simplify()\n    vy=v.diff(y).simplify()\n    if ux == vy and uv == -vx:\n        print(\"The Cauchy-Riemann equation is satisifed\")\n    else:\n        print(\"The Cauchy-Riemann equation is not satisfied\")\n\nCR_cartesian(exp(y)*cos(x),exp(y)*sin(x))\n\ndef CR_polar(u,v):\n    ur=u.diff(r).simplify()\n    ut=u.diff(theta).simplify()\n    vr=v.diff(r).simplify()\n    vt=v.diff(theta).simplify()\n    if ur == (vt/r).simplify() and ut == (-r*vr).simplify():\n        print(\"The Cauchy-Riemann equation is satisifed\")\n    else:\n        print(\"The Cauchy-Riemann equation is not satisifed\")\n\nCR_polar(log(r),theta)",
      "metadata": {
        "trusted": true
      },
      "outputs": [
        {
          "name": "stdout",
          "text": "The Cauchy-Riemann equation is not satisfied\nThe Cauchy-Riemann equation is satisifed\n",
          "output_type": "stream"
        }
      ],
      "execution_count": 3
    },
    {
      "cell_type": "markdown",
      "source": "**2. Constructing Analytic function using Milne Thomson method.**",
      "metadata": {}
    },
    {
      "cell_type": "code",
      "source": "def analytic_function_cartesian(u):\n    ux=u.diff(x).simplify()\n    uy=u.diff(y).simplify()\n    eq=ux-i*uy\n    eq=eq.subs(x,z).subs(y,0)\n    print(\"The analytic function reconstructed from\",u,\"using Milne Thomson method is\",integrate(eq,z))\n\nanalytic_function_cartesian(exp(x)*x*cos(y)-exp(x)*y*sin(y))\n\ndef analytic_function_polar(u):\n    ur=(u.diff(r)*exp(-i*theta)).simplify()\n    ut=(u.diff(theta)*exp(-i*theta)).simplify()\n    eq=ur-i*ut\n    eq=eq.subs(r,z).subs(theta,0)\n    print(\"The analytic function reconstructed from\",u,\"using Milne Thomson method is\",integrate(eq,z))\n    \nanalytic_function_polar(cos(theta)*r+cos(theta)/r)    ",
      "metadata": {
        "trusted": true
      },
      "outputs": [
        {
          "name": "stdout",
          "text": "The analytic function reconstructed from x*exp(x)*cos(y) - y*exp(x)*sin(y) using Milne Thomson method is z*exp(z)\nThe analytic function reconstructed from r*cos(theta) + cos(theta)/r using Milne Thomson method is z + 1/z\n",
          "output_type": "stream"
        }
      ],
      "execution_count": 4
    },
    {
      "cell_type": "markdown",
      "source": "**3. Verifying that the real and imaginary parts of a complex function are orthogonal.**",
      "metadata": {}
    },
    {
      "cell_type": "code",
      "source": "def orthogonal(u,v):\n    ux=u.diff(x).simplify()\n    uy=u.diff(y).simplify()\n    vx=v.diff(x).simplify()\n    vy=v.diff(y).simplify()\n    if ((ux*vx)/(uy*vy)).simplify() == -1:\n        print(u,\"and\",v,\"are orthogonal\")\n    else:\n        print(u,\"and\",v,\"are not orthogonal\")\n\northogonal(exp(-x)*cos(y),exp(-x)*sin(y))",
      "metadata": {
        "trusted": true
      },
      "outputs": [
        {
          "name": "stdout",
          "text": "exp(-x)*cos(y) and exp(-x)*sin(y) are orthogonal\n",
          "output_type": "stream"
        }
      ],
      "execution_count": 5
    },
    {
      "cell_type": "markdown",
      "source": "**4. Verifying that the real and imaginary parts of a complex function are harmonic in cartesian and polar form.**",
      "metadata": {}
    },
    {
      "cell_type": "code",
      "source": "def harmonic_cartesian(u,v):\n    ux2=u.diff(x,2).simplify()\n    uy2=u.diff(y,2).simplify()\n    vx2=v.diff(x,2).simplify()\n    vy2=v.diff(y,2).simplify()\n    if (ux2+uy2).simplify()==0 and (vx2+vy2).simplify()==0:\n        print(u,\"and\",v,\"are haromic functions\")\n    else:\n        print(u,\"and\",v,\"are not haromic functions\")\n\nharmonic_cartesian(x**3-3*x*y**2,3*x**2*y-y**3)\n\ndef harmonic_polar(u,v):\n    ur=(u.diff(r)/r).simplify()\n    ur2=u.diff(r,2).simplify()\n    ut2=(u.diff(theta,2)/r**2).simplify()\n    vr=(v.diff(r)/r).simplify()\n    vr2=v.diff(r,2).simplify()\n    vt2=(v.diff(theta,2)/r**2).simplify()\n    if (ur2+ur+ut2).simplify()==0 and (vr2+vr+vt2).simplify()==0:\n        print(u,\"and\",v,\"are haromic functions\")\n    else:\n        print(u,\"and\",v,\"are not haromic functions\")\n\nharmonic_polar(r**2*cos(2*theta),r**2*sin(2*theta))",
      "metadata": {
        "trusted": true
      },
      "outputs": [
        {
          "name": "stdout",
          "text": "x**3 - 3*x*y**2 and 3*x**2*y - y**3 are haromic functions\nr**2*cos(2*theta) and r**2*sin(2*theta) are haromic functions\n",
          "output_type": "stream"
        }
      ],
      "execution_count": 6
    },
    {
      "cell_type": "markdown",
      "source": "**5. Cauchy's Integral Theorem.**",
      "metadata": {}
    },
    {
      "cell_type": "code",
      "source": "def Cauchy_Integral_Formula(fz,dn,c,r,n):\n    sp=solve(dn,z)[0]\n    if abs(sp) < abs(c+r):\n        a=fz.diff(z,n-1).subs(z,sp).simplify()\n        print(\"The value of the Cauchy Integral is\",((2*pi*i*a)/(factorial(n-1)).simplify()))\n    else:\n        print(\"The function is analytic\")\n        \nCauchy_Integral_Formula(z**2-z+1,z-1,0,2,1)        ",
      "metadata": {
        "trusted": true
      },
      "outputs": [
        {
          "name": "stdout",
          "text": "The value of the Cauchy Integral is 2*pi*i\n",
          "output_type": "stream"
        }
      ],
      "execution_count": 7
    },
    {
      "cell_type": "markdown",
      "source": "**6. Gradient, Divergence, Curl and Laplacian.**",
      "metadata": {}
    },
    {
      "cell_type": "code",
      "source": "def gradient(phi):\n    g1=phi.diff(x)\n    g2=phi.diff(y)\n    g3=phi.diff(z)\n    print(\"The Gradient of\",phi,\"is\",g1*i+g2*j+g3*k)\n\ngradient(2*x**2*y**3*z)\n\ndef divergence(f):\n    units=[i,j,k]\n    components=[f.coeff(vec) for vec in units]\n    d1=components[0].diff(x)\n    d2=components[1].diff(y)\n    d3=components[2].diff(z)\n    print(\"The Divergence of\",f,\"is\",d1+d2+d3)\n\ndivergence(x*y*z*i+3*y*x**2*j+(x*z**2-z*y**2)*k)\n\ndef curl(f):\n    units=[i,j,k]\n    components=[f.coeff(vec) for vec in units]\n    c1=(components[2].diff(y)-components[1].diff(z))*i\n    c2=(components[2].diff(x)-components[0].diff(z))*j\n    c3=(components[1].diff(x)-components[0].diff(y))*k\n    print(\"The Curl of\",f,\"is\",c1+c2+c3)\n\ncurl((y**2+z**3)*i+(2*x*y-5*z)*j+(3*x*z**2-5*y)*k)\n\ndef laplacian(phi):\n    l1=phi.diff(x,2)\n    l2=phi.diff(y,2)\n    l3=phi.diff(z,2)\n    print(\"The Laplcian of\",phi,\"is\",l1+l2+l3)\n\nlaplacian(3*x**2+2*y**3-5*z)",
      "metadata": {
        "trusted": true
      },
      "outputs": [
        {
          "name": "stdout",
          "text": "The Gradient of 2*x**2*y**3*z is 4*i*x*y**3*z + 2*k*x**2*y**3 + 6*x**2*y**2*z*j(x, y, z)\nThe Divergence of i*x*y*z + k*(x*z**2 - y**2*z) + 3*x**2*y*j(x, y, z) is 3*x**2 + 2*x*z - y**2 + y*z\nThe Curl of i*(y**2 + z**3) + k*(3*x*z**2 - 5*y) + (2*x*y - 5*z)*j(x, y, z) is 0\nThe Laplcian of 3*x**2 + 2*y**3 - 5*z is 12*y + 6\n",
          "output_type": "stream"
        }
      ],
      "execution_count": 8
    },
    {
      "cell_type": "markdown",
      "source": "**7. Gradient, Divergence, Curl and Laplacian in cylindrical coordinates.**",
      "metadata": {}
    },
    {
      "cell_type": "code",
      "source": "er=Symbol('er')\net=Symbol('et')\nez=Symbol('ez')\n\nx=r*cos(theta)\ny=r*sin(theta)\nz=z\n\ni=cos(theta)*er-sin(theta)*et\nj=sin(theta)*er+cos(theta)*et\nk=ez\n\nr1=x+y+z\n\ndef gradient(r1):\n    g1=r1.diff(r)*er\n    g2=(r1.diff(theta)*et)/r\n    g3=r1.diff(z)*ez\n    print(\"The Gradient of\",r1,\"is\",g1+g2+g3)\n\ngradient(r1)\n\ndef laplacian(r1):\n    l1=(r*diff(r1,r)).diff(r)/r\n    l2=(diff(r1,theta,2))/r**2\n    l3=diff(r1,z,2)\n    print(\"The Laplacian of\",r1,\"is\",l1+l2+l3)\n\nlaplacian(r1)\n\nr2=(x*i+y*j+z*k).simplify()\n\ndef divergence(r2):\n    units=[er,et,ez]\n    components=[r2.coeff(vec) for vec in units]\n    d1=diff(components[0]*r,r)/r\n    d2=diff(components[1],theta)/r\n    d3=diff(components[2],z)\n    print(\"The Divergence of\",r2,\"is\",d1+d2+d3)\n\ndivergence(r2)\n\ndef curl(r2):\n    units=[er,et,ez]\n    components=[r2.coeff(vec) for vec in units]\n    c1=(components[2].diff(theta)-(r*components[1]).diff(theta))*er\n    c2=(components[2].diff(r)-components[0].diff(z))*et\n    c3=((r*components[1]).diff(r)-components[0].diff(theta))*ez\n    print(\"The Curl of\",r2,\"is\",c1-c2+c3)\n\ncurl(r2)",
      "metadata": {
        "trusted": true
      },
      "outputs": [
        {
          "name": "stdout",
          "text": "The Gradient of r*sin(theta) + r*cos(theta) + z is er*(sin(theta) + cos(theta)) + et*(-r*sin(theta) + r*cos(theta))/r + ez\nThe Laplacian of r*sin(theta) + r*cos(theta) + z is 0\nThe Divergence of er*r + ez*z is 3\nThe Curl of er*r + ez*z is 0\n",
          "output_type": "stream"
        }
      ],
      "execution_count": 9
    },
    {
      "cell_type": "markdown",
      "source": "**8. Gradient and Laplacian in spherical coordinates.**",
      "metadata": {}
    },
    {
      "cell_type": "code",
      "source": "er=Symbol('er')\net=Symbol('et')\nep=Symbol('ep')\n\nx=r*sin(theta)*cos(phi)\ny=r*sin(theta)*sin(phi)\nz=r*cos(theta)\n\ni=sin(theta)*cos(phi)*er+cos(theta)*cos(phi)*et-sin(phi)*ep\nj=sin(theta)*sin(phi)*er+cos(theta)*sin(phi)*et+cos(phi)*ep\nk=cos(theta)*er-sin(theta)*et\n\nf1=x+y+z\n\ndef gradient(f1):\n    g1=f1.diff(r)*er\n    g2=(f1.diff(theta)*et)/r\n    g3=(f1.diff(phi)*ep)/(r*sin(theta))\n    print(\"The Gradient of\",f1,\"is\",g1+g2+g3)\n\ngradient(f1)\n\ndef laplacian(f1):\n    l1=((f1.diff(r)*r**2).diff(r))/r**2\n    l2=((f1.diff(theta)*sin(theta)).diff(theta))/(r**2*sin(theta))\n    l3=((f1.diff(phi,2)))/(r**2*sin(theta)**2)\n    print(\"The Laplacian of\",f1,\"is\",(l1+l2+l3).simplify())\n\nlaplacian(f1)",
      "metadata": {
        "trusted": true
      },
      "outputs": [
        {
          "name": "stdout",
          "text": "The Gradient of r*sin(phi)*sin(theta) + r*sin(theta)*cos(phi) + r*cos(theta) is ep*(-r*sin(phi)*sin(theta) + r*sin(theta)*cos(phi))/(r*sin(theta)) + er*(sin(phi)*sin(theta) + sin(theta)*cos(phi) + cos(theta)) + et*(r*sin(phi)*cos(theta) - r*sin(theta) + r*cos(phi)*cos(theta))/r\nThe Laplacian of r*sin(phi)*sin(theta) + r*sin(theta)*cos(phi) + r*cos(theta) is 0\n",
          "output_type": "stream"
        }
      ],
      "execution_count": 10
    },
    {
      "cell_type": "markdown",
      "source": "**9. Vector Identites - I**",
      "metadata": {}
    },
    {
      "cell_type": "code",
      "source": "def gradient(m):\n    g1=m.diff(x)\n    g2=m.diff(y)\n    g3=m.diff(z)\n    return g1*i+g2*j+g3*k\n\nj=Function('j')(x,y,z)\nl=Function('l')(x,y,z)\n\nif factor(gradient(j+l)) == gradient(j)+gradient(l):\n    print(\"grad(phi+psi)=grad(phi)+grad(psi)\")\n\ndef divergence(f):\n    units=[i,j,k]\n    components=[f.coeff(vec) for vec in units]\n    d1=components[0].diff(x)\n    d2=components[1].diff(y)\n    d3=components[2].diff(z)\n    return d1+d2+d3\n\no=x*i+y*j+z*k\np=x**2*i+y**2*j+z**2*k\n\nif factor(divergence(o+p)) == divergence(o)+divergence(p):\n    print(\"div(f+g)=div(f)+div(g)\")\n\ndef curl(f):\n    units=[i,j,k]\n    components=[f.coeff(vec) for vec in units]\n    c1=(components[2].diff(y)-components[1].diff(z))*i\n    c2=(components[2].diff(x)-components[0].diff(z))*j\n    c3=(components[1].diff(x)-components[0].diff(y))*k\n    return c1+c2+c3\n\nif factor(curl(o+p)) == curl(o)+curl(p):\n    print(\"curl(f+g)=curl(f)+curl(g)\")",
      "metadata": {
        "trusted": true
      },
      "outputs": [
        {
          "name": "stdout",
          "text": "grad(phi+psi)=grad(phi)+grad(psi)\ndiv(f+g)=div(f)+div(g)\ncurl(f+g)=curl(f)+curl(g)\n",
          "output_type": "stream"
        }
      ],
      "execution_count": 2
    }
  ]
}