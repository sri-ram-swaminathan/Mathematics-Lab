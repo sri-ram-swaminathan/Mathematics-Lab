{
  "metadata": {
    "kernelspec": {
      "name": "python",
      "display_name": "Python (Pyodide)",
      "language": "python"
    },
    "language_info": {
      "codemirror_mode": {
        "name": "python",
        "version": 3
      },
      "file_extension": ".py",
      "mimetype": "text/x-python",
      "name": "python",
      "nbconvert_exporter": "python",
      "pygments_lexer": "ipython3",
      "version": "3.8"
    }
  },
  "nbformat_minor": 4,
  "nbformat": 4,
  "cells": [
    {
      "cell_type": "code",
      "source": "from sympy import *\nfrom sympy.abc import x,k",
      "metadata": {
        "trusted": true
      },
      "outputs": [],
      "execution_count": 1
    },
    {
      "cell_type": "markdown",
      "source": "**1. To check if a given ring is a commutative ring with unity.**",
      "metadata": {}
    },
    {
      "cell_type": "code",
      "source": "def commutative(R,n):\n    for i in R:\n        for j in R:\n            if (i*j)%n == (j*i)%n:\n                pass\n            else:\n                print(R,\"is not a commutative ring\")\n                break\n    print(R,\"is a commutative ring\")\n\ncommutative([0,1,2,3,4,5],6)\n\ndef identity(R,n):\n    R.remove(0)\n    u=[x for x in R for y in R if (x*y)%n == y and (y*x)%n == y]\n    if len(u)!=0:\n        unity=[x for x in R if u.count(x) ==  len(R)][0]\n        print(\"The unity is\",unity)\n        return unity\n    else:\n        print(R,\"has no unity\")\n\nidentity([0,1,2,3,4,5],6)",
      "metadata": {
        "trusted": true
      },
      "outputs": [
        {
          "name": "stdout",
          "text": "[0, 1, 2, 3, 4, 5] is a commutative ring\nThe unity is 1\n",
          "output_type": "stream"
        },
        {
          "execution_count": 2,
          "output_type": "execute_result",
          "data": {
            "text/plain": "1"
          },
          "metadata": {}
        }
      ],
      "execution_count": 2
    },
    {
      "cell_type": "markdown",
      "source": "**2. To check if a given ring is an integral domain or field.**",
      "metadata": {}
    },
    {
      "cell_type": "code",
      "source": "def zero_divisors(R,n):\n    R.remove(0)\n    zerodivisors=[x for x in R for y in R if (x*y)%n == 0]\n    if len(zerodivisors) != 0:\n        print(R,\"is not an integral domain and the zero divisors are\",set(zerodivisors))\n    else:\n        print(R,\"is an integral domain\")\n\nzero_divisors([0,1,2,3,4],5)\n\ndef field(R,n):\n    e=identity(R,n)\n    if e is not None:\n        I=[x for x in R for y in R if (x*y)%n == e]\n        if len(I) == len(R):\n            print(R,\"is a field\")\n        else:\n            print(R,\"is not a field\")\n    else:\n        print(R,\"is a ring without unity\")\n    for x in R:\n        flag=False\n        for y in R:\n            if (x*y)%n == e and (y*x)%n == e:\n                flag=True\n                print(\"The inverse of\",x,\"is\",y)\n                break\n        if flag == False:\n            print(\"The element\",x,\"has no inverse\")\n\nfield([0,1,2,3,4],5)",
      "metadata": {
        "trusted": true
      },
      "outputs": [
        {
          "name": "stdout",
          "text": "[1, 2, 3, 4] is an integral domain\nThe unity is 1\n[1, 2, 3, 4] is a field\nThe inverse of 1 is 1\nThe inverse of 2 is 3\nThe inverse of 3 is 2\nThe inverse of 4 is 4\n",
          "output_type": "stream"
        }
      ],
      "execution_count": 3
    },
    {
      "cell_type": "markdown",
      "source": "**3. To check if a given subset is a subring or an ideal.**",
      "metadata": {}
    },
    {
      "cell_type": "code",
      "source": "def subring_and_ideal(R,S,n):\n    flag1=True\n    for i in R:\n        for j in R:\n            if (i+j)%n not in R or (i*j)%n not in R:\n                flag1=False\n            else:\n                pass\n    if flag1==True:\n        flag2=True\n        for i in R:\n            for j in S:\n                if (i*j)%n not in S:\n                    flag2==False\n                else:\n                    pass\n        if flag2==True:\n            print(S,\"is a subring and ideal of\",R)\n        else:\n            print(S,\"is a subring of\",R,\"but not an ideal\")\n    else:\n        print(S,\"is not a subring of\",R,\"and hence not an ideal\")\n\nsubring_and_ideal([0,1,2,3,4,5],[0,2,4],6)",
      "metadata": {
        "trusted": true
      },
      "outputs": [
        {
          "name": "stdout",
          "text": "[0, 2, 4] is a subring and ideal of [0, 1, 2, 3, 4, 5]\n",
          "output_type": "stream"
        }
      ],
      "execution_count": 4
    },
    {
      "cell_type": "markdown",
      "source": "**4. To check if a given ideal is a prime ideal.**",
      "metadata": {}
    },
    {
      "cell_type": "code",
      "source": "def prime_ideal(R,S,n):\n    flag=True\n    if R!=S:\n        for i in R:\n            for j in R:\n                if (i*j)%n in S:\n                    if i not in S and j not in S:\n                        flag=False\n                        break\n                    else:\n                        pass\n        if flag == True:\n            print(S,\"is a prime ideal of\",R)\n        else:\n            print(S,\"is not a prime ideal of\",R)\n    else:\n        print(S,\"is not a proper subset\")\n        \nprime_ideal([0,1,2,3,4,5],[0,2,4],6)                ",
      "metadata": {
        "trusted": true
      },
      "outputs": [
        {
          "name": "stdout",
          "text": "[0, 2, 4] is a prime ideal of [0, 1, 2, 3, 4, 5]\n",
          "output_type": "stream"
        }
      ],
      "execution_count": 5
    },
    {
      "cell_type": "markdown",
      "source": "**5. To check if a function is a ring homomorphism and to find its kernel and image.**",
      "metadata": {}
    },
    {
      "cell_type": "code",
      "source": "def homomorphism(R,n,m):\n    flag=[False for x in R for y in R if f(x*y)%n!=(f(x)*f(y))%m or f(x+y)%n!=(f(x)+f(y))%m]\n    if flag:\n        kernel={x for x in R if f(x)%n == 0}\n        image={f(x) for x in R}\n        print(\"The mapping f(x)=\",f(x),\"is a homomorphism\")\n        print(\"The kernel is\",kernel)\n        print(\"The image is\",image)\n    else:\n        print(\"The mapping f(x)=\",f(x),\"is not a homomorphism\")\n\ndef f(x):\n    return (5*x)%10\n\nhomomorphism({0,1,2,3},4,10)",
      "metadata": {
        "trusted": true
      },
      "outputs": [
        {
          "name": "stdout",
          "text": "The mapping f(x)= 5*(Mod(x, 2)) is a homomorphism\nThe kernel is {0, 2}\nThe image is {0, 5}\n",
          "output_type": "stream"
        }
      ],
      "execution_count": 6
    },
    {
      "cell_type": "markdown",
      "source": "**6. To check if a ring homomorphism is an isomorphism.**",
      "metadata": {}
    },
    {
      "cell_type": "code",
      "source": "def isomorphism(R,S,n,m):\n    flag=[False for x in R for y in R if f(x*y)%n!=(f(x)*f(y))%m or f(x+y)%n!=(f(x)+f(y))%m]\n    if flag==[]:\n        kernel={x for x in R if f(x) == 0}\n        image={f(x) for x in R}\n        if kernel == {0} and image == S:\n            print(\"The mapping f(x)=\",f(x),\"is an isomorphism\")\n        else:\n            print(\"The mapping f(x)=\",f(x),\"is not an isomorphism\")\n    else:\n        print(\"The mapping f(x)=\",f(x),\"is not a homomorphism\")\n\ndef f(x):\n    return (3*x)%6\n\nisomorphism([0,1,2,3,4,5],[0,1,2,3,4,5],6,6)",
      "metadata": {
        "trusted": true
      },
      "outputs": [
        {
          "name": "stdout",
          "text": "The mapping f(x)= 3*(Mod(x, 2)) is not an isomorphism\n",
          "output_type": "stream"
        }
      ],
      "execution_count": 7
    },
    {
      "cell_type": "markdown",
      "source": "**7. Euler’s equation and its particular forms.**",
      "metadata": {}
    },
    {
      "cell_type": "code",
      "source": "y=Function('y')\ny1=y(x).diff(x)\nF=(y(x)*(1+y1**2))**(1/2)\neq=F-y1*diff(F,y1)-k\nsol=dsolve(eq,y(x))\nprint(\"The extrema is\",sol[2].rhs)",
      "metadata": {
        "trusted": true
      },
      "outputs": [
        {
          "name": "stdout",
          "text": "The extrema is 0.25*C1**2/k**2 - 0.5*C1*x/k**2 + k**2 + 0.25*x**2/k**2\n",
          "output_type": "stream"
        }
      ],
      "execution_count": 8
    },
    {
      "cell_type": "markdown",
      "source": "**8. Brachistochrone problem**",
      "metadata": {}
    },
    {
      "cell_type": "code",
      "source": "c,t=symbols('c,t',positive=True)\ndy=symbols('dy')\ny=Function('y')\ny1=diff(y(x),x)\nF=sqrt((1+y1**2)/(y(x)))\nDE=Eq(simplify(F-y1*diff(F,y1)),1/sqrt(c))\nsol=solve(DE,y1)[1].simplify()\nY=c*sin(t)**2\neq=(1/sol).subs(y(x),Y)\ndy=diff((c*sin(t)**2),t)\nf=eq*dy\nf=sqrt(simplify(f**2))\nX=integrate(f,t).simplify()\nprint(\"The solution to the brachistocrone problem is x=\",X,\"y=\",Y)\nprint(\"This represents the equation of cycloid\")",
      "metadata": {
        "trusted": true
      },
      "outputs": [
        {
          "name": "stdout",
          "text": "The solution to the brachistocrone problem is x= c*(t - sin(2*t)/2) y= c*sin(t)**2\nThis represents the equation of cycloid\n",
          "output_type": "stream"
        }
      ],
      "execution_count": 9
    },
    {
      "cell_type": "markdown",
      "source": "**9. Minimum surface of revolution and hanging chain problem.**",
      "metadata": {}
    },
    {
      "cell_type": "code",
      "source": "x = symbols('x')\nc = symbols('c', positive=True)\ny = Function('y')(x)\ny1 = diff(y, x)\nF = y * sqrt(1 + y1**2)\nEulereq = Eq(F - y1 * diff(F, y1), c)\nsol = dsolve(Eulereq, y)\nextremal = sol.rhs.simplify()\nprint(\"The solution to both the minimum surface of revolution and hanging chain problem is y =\", extremal)\nprint(\"This represents the equation of catenary\")",
      "metadata": {
        "trusted": true
      },
      "outputs": [
        {
          "name": "stdout",
          "text": "The solution to both the minimum surface of revolution and hanging chain problem is y = c**2*exp((-C1*c + x)/c) + exp((C1*c - x)/c)/4\nThis represents the equation of catenary\n",
          "output_type": "stream"
        }
      ],
      "execution_count": 10
    }
  ]
}