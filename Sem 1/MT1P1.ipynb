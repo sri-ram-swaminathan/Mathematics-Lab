{
  "metadata": {
    "kernelspec": {
      "name": "python",
      "display_name": "Python (Pyodide)",
      "language": "python"
    },
    "language_info": {
      "codemirror_mode": {
        "name": "python",
        "version": 3
      },
      "file_extension": ".py",
      "mimetype": "text/x-python",
      "name": "python",
      "nbconvert_exporter": "python",
      "pygments_lexer": "ipython3",
      "version": "3.8"
    }
  },
  "nbformat_minor": 4,
  "nbformat": 4,
  "cells": [
    {
      "cell_type": "code",
      "source": "from sympy import *\nfrom sympy.abc import x,y,z",
      "metadata": {
        "trusted": true
      },
      "outputs": [],
      "execution_count": 1
    },
    {
      "cell_type": "markdown",
      "source": "**1. Matrices: Algebra of Matrices with problems.**",
      "metadata": {}
    },
    {
      "cell_type": "code",
      "source": "A=Matrix([[2,3,-1],[4,1,3],[1,6,8]])\nI=Matrix.eye(3)\n\nprint(\"A**2-3*A+I=\",A**2-3*A+I)\n\nprint(\"The transpose of matrix\",A,\"is\",A.transpose())\n\nprint(\"The trace of the matrix\",A,\"is\",A.trace())\n\nprint(\"The determinant of the matrix\",A,\"is\",A.det())\n\nprint(\"The inverse of the matrix\",A,\"is\",A.inv())",
      "metadata": {
        "trusted": true
      },
      "outputs": [
        {
          "name": "stdout",
          "text": "A**2-3*A+I= Matrix([[10, -6, 2], [3, 29, 14], [31, 39, 58]])\nThe transpose of matrix Matrix([[2, 3, -1], [4, 1, 3], [1, 6, 8]]) is Matrix([[2, 4, 1], [3, 1, 6], [-1, 3, 8]])\nThe trace of the matrix Matrix([[2, 3, -1], [4, 1, 3], [1, 6, 8]]) is 11\nThe determinant of the matrix Matrix([[2, 3, -1], [4, 1, 3], [1, 6, 8]]) is -130\nThe inverse of the matrix Matrix([[2, 3, -1], [4, 1, 3], [1, 6, 8]]) is Matrix([[1/13, 3/13, -1/13], [29/130, -17/130, 1/13], [-23/130, 9/130, 1/13]])\n",
          "output_type": "stream"
        }
      ],
      "execution_count": 2
    },
    {
      "cell_type": "markdown",
      "source": "**2. Computation of rank of a matrix by row reduced echelon form and normal form.**",
      "metadata": {}
    },
    {
      "cell_type": "code",
      "source": "A=Matrix([[1,3,-2],[2,-1,4],[1,-11,14]])\nB=A.rref()[0]\nB=B.transpose()\nB1=B.rref()[0]\nB1=B1.transpose()\n\nprint(\"The row reduced echelon form of\",A,\"is\",B)\n\nprint(\"The rank of\",A,\"is\",A.rank())\n\nprint(\"The normal form of\",A,\"is\",B1)\n\nprint(\"The rank of\",A,\"is\",B1.rank())",
      "metadata": {
        "trusted": true
      },
      "outputs": [
        {
          "name": "stdout",
          "text": "The row reduced echelon form of Matrix([[1, 3, -2], [2, -1, 4], [1, -11, 14]]) is Matrix([[1, 0, 0], [0, 1, 0], [10/7, -8/7, 0]])\nThe rank of Matrix([[1, 3, -2], [2, -1, 4], [1, -11, 14]]) is 2\nThe normal form of Matrix([[1, 3, -2], [2, -1, 4], [1, -11, 14]]) is Matrix([[1, 0, 0], [0, 1, 0], [0, 0, 0]])\nThe rank of Matrix([[1, 3, -2], [2, -1, 4], [1, -11, 14]]) is 2\n",
          "output_type": "stream"
        }
      ],
      "execution_count": 3
    },
    {
      "cell_type": "markdown",
      "source": "**3. Solving the system of homogeneous and non-homogeneous linear equations.**",
      "metadata": {}
    },
    {
      "cell_type": "code",
      "source": "A=Matrix([[2,5,7],[1,1,1],[2,1,-1]])\nB=Matrix([[52],[9],[0]])\nX=Matrix([[x],[y],[z]])\n\nb=A.row_join(B)\nr=A.rank()\nq=b.rank()\n\nprint(\"The rank of the matrix\",A,\"is\",r)\nprint(\"The rank of the augmented matrix\",b,\"is\",q)\n\nD=A.shape\nn=D[1]\n\nif r==q:\n    print(\"The system of equations is consistent\")\n    if r<n:\n        print(\"The system of equations has infintley many solutions\")\n    else:\n        sol=solve(A*X-B)\n        print(\"The system of equations has a unique solution\",sol)\nelse:\n    print(\"The system of equations is inconsistent\")",
      "metadata": {
        "trusted": true
      },
      "outputs": [
        {
          "name": "stdout",
          "text": "The rank of the matrix Matrix([[2, 5, 7], [1, 1, 1], [2, 1, -1]]) is 3\nThe rank of the augmented matrix Matrix([[2, 5, 7, 52], [1, 1, 1, 9], [2, 1, -1, 0]]) is 3\nThe system of equations is consistent\nThe system of equations has a unique solution {x: 1, y: 3, z: 5}\n",
          "output_type": "stream"
        }
      ],
      "execution_count": 4
    },
    {
      "cell_type": "markdown",
      "source": "**4. Finding the nth derivatives of functions without Leibnitz theorem.**",
      "metadata": {}
    },
    {
      "cell_type": "code",
      "source": "pprint(diff(exp(x)*sin(3*x),x,3))",
      "metadata": {
        "trusted": true
      },
      "outputs": [
        {
          "name": "stdout",
          "text": "                               x\n-2⋅(13⋅sin(3⋅x) + 9⋅cos(3⋅x))⋅ℯ \n",
          "output_type": "stream"
        }
      ],
      "execution_count": 5
    },
    {
      "cell_type": "markdown",
      "source": "**5. Finding the nth derivatives of functions with Leibnitz theorem.** ",
      "metadata": {}
    },
    {
      "cell_type": "code",
      "source": "u=x**3\nv=4**x\nn=3\ns=0\n\nfor r in range(0,n+1):\n    F=factorial(n)/(factorial(n-r)*factorial(r))\n    du=diff(u,x,n-r)\n    dv=diff(v,x,r)\n    p=F*du*dv\n    s=s+p\n\npprint(s)",
      "metadata": {
        "trusted": true
      },
      "outputs": [
        {
          "name": "stdout",
          "text": " x  3    3         x  2    2          x               x\n4 ⋅x ⋅log (4) + 9⋅4 ⋅x ⋅log (4) + 18⋅4 ⋅x⋅log(4) + 6⋅4 \n",
          "output_type": "stream"
        }
      ],
      "execution_count": 6
    },
    {
      "cell_type": "markdown",
      "source": "**6. Partial Differentiation of some standard functions.**",
      "metadata": {}
    },
    {
      "cell_type": "code",
      "source": "f=log(x*y)\n\nprint(\"fx=\",f.diff(x))\nprint(\"fy=\",f.diff(y))\nprint(\"fxx=\",f.diff(x,2))\nprint(\"fyy=\",f.diff(y,2))\nprint(\"fxy=\",f.diff(x,y))\nprint(\"fyx=\",f.diff(y,x))",
      "metadata": {
        "trusted": true
      },
      "outputs": [
        {
          "name": "stdout",
          "text": "fx= 1/x\nfy= 1/y\nfxx= -1/x**2\nfyy= -1/y**2\nfxy= 0\nfyx= 0\n",
          "output_type": "stream"
        }
      ],
      "execution_count": 7
    },
    {
      "cell_type": "markdown",
      "source": "**7. Indeterminate forms and evaluation of limits using L’Hospital’s rule.**",
      "metadata": {}
    },
    {
      "cell_type": "code",
      "source": "k=log(3*x)/(x**2)\nl=limit(k,x,oo)\n\nprint(\"The limit of\",k,\"as x tends to infinity is\",l)",
      "metadata": {
        "trusted": true
      },
      "outputs": [
        {
          "name": "stdout",
          "text": "The limit of log(3*x)/x**2 as x tends to infinity is 0\n",
          "output_type": "stream"
        }
      ],
      "execution_count": 8
    }
  ]
}