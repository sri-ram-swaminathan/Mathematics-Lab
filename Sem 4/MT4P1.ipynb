{
  "metadata": {
    "kernelspec": {
      "name": "python",
      "display_name": "Python (Pyodide)",
      "language": "python"
    },
    "language_info": {
      "codemirror_mode": {
        "name": "python",
        "version": 3
      },
      "file_extension": ".py",
      "mimetype": "text/x-python",
      "name": "python",
      "nbconvert_exporter": "python",
      "pygments_lexer": "ipython3",
      "version": "3.8"
    }
  },
  "nbformat_minor": 4,
  "nbformat": 4,
  "cells": [
    {
      "cell_type": "code",
      "source": "from sympy import *\nfrom math import *\nfrom sympy.abc import x",
      "metadata": {
        "trusted": true
      },
      "outputs": [],
      "execution_count": 1
    },
    {
      "cell_type": "markdown",
      "source": "**1. a)Finding the root of a continuous function using Bisection Method.\n    <br>\n    b)Finding the root of a continuous function using Newton Raphson Method.**",
      "metadata": {}
    },
    {
      "cell_type": "code",
      "source": "y=Function('y')('x')\ndef y(x):\n    return x**3-(2*x)-5\na=2\nb=3\nwhile((b-a)>=0.00001):\n    c=(a+b)/2\n    fc=y(c)\n    if fc>0:\n        b=c\n    elif fc<0:\n        a=c\n    else:\n        break\n        \nprint(\"The root using bisection method is\", round(c,4))\n\ny = Function('y')('x')\ny = (x**3)-2*x-5\ndy = Derivative(y,x)\na = 2\nr = 0\nflag = True\nwhile flag:\n    fa = float(y.subs({x:a}))\n    fd = float(dy.subs({x:a}))\n    b=a-(fa/fd)\n    if (round(b,4)==r):\n        flag = False\n        break\n    r = round(b,4)\n    a = b\n    \nprint(\"The root using newton raphson method is\", round(b,5))",
      "metadata": {
        "trusted": true
      },
      "outputs": [
        {
          "name": "stdout",
          "text": "The root using bisection method is 2.0946\nThe root using newton raphson method is 2.09455\n",
          "output_type": "stream"
        }
      ],
      "execution_count": 2
    },
    {
      "cell_type": "markdown",
      "source": "**2. a)Interpolation for equal intervals using Newton's Forward Interpolation.\n<br>\nb)Interpolation for unequal intervals using Lagrange's Formula.**",
      "metadata": {}
    },
    {
      "cell_type": "code",
      "source": "def forward (x,y,xp):\n    t = [y]\n    n = len(y)\n    for i in range(1,n):\n        t_in = []\n        for j in range(n-i):\n            t_in.append(t[i-1][j+1]-t[i-1][j])\n        t.append(t_in)\n    for i in range (n):\n        print(x[i],end='\\t')\n        for j in range (n-i):\n            print(t[j][i], end = '\\t')\n        print('\\n')\n    s = y[0]\n    ncp = 1\n    p = (xp-x[0])/(x[1]-x[0])\n    for i in range (1,n):\n        ncp = ncp*(p-(i-1))/i\n        s = s+ncp*t[i][0]\n    print(\"The value of the function at x =\",x1,\"using newton's forward interpolation is\",round(s,4))\nx = [45,50,55,60]\ny = [0.7071,0.766,0.8192,0.866]\nx1 = 52\n\nforward(x,y,x1)\n\ndef lagrange(xdata,ydata,xp):\n    from sympy.abc import x\n    n = len(xdata)\n    pts=[(xdata[i],ydata[i]) for i in range(n)]\n    s=0\n    for i in range(n):\n        p = 1\n        for j in range(n):\n            if j!=i:\n                p = p*(x-xdata[j])/(xdata[i]-xdata[j])\n        s=s+p*ydata[i]\n    print(\"The lagrange polynomial is\",s.expand())\n    print(\"The value of the function at\",xp,\"using lagrange's formula is\",float(s.subs(x,xp)))\n    return None\n    \nlagrange([300,304,305,307],[2.4771,2.4829,2.4843,2.4871],301)",
      "metadata": {
        "trusted": true
      },
      "outputs": [
        {
          "name": "stdout",
          "text": "45\t0.7071\t0.05890000000000006\t-0.005700000000000038\t-0.0007000000000000339\t\n\n50\t0.766\t0.053200000000000025\t-0.006400000000000072\t\n\n55\t0.8192\t0.04679999999999995\t\n\n60\t0.866\t\n\nThe value of the function at x = 52 using newton's forward interpolation is 0.788\nThe lagrange polynomial is 1.42857142848563e-6*x**3 - 0.00130857142858076*x**2 + 0.400947142843506*x - 38.6070428565145\nThe value of the function at 301 using lagrange's formula is 2.478597142857142\n",
          "output_type": "stream"
        }
      ],
      "execution_count": 3
    },
    {
      "cell_type": "markdown",
      "source": "**3. Numerical Integration using Simpson's rules.**",
      "metadata": {}
    },
    {
      "cell_type": "code",
      "source": "#Simpson's 1/3rd formula\nfrom sympy.abc import x\ndef Simpson13(y,l,u,n):\n    h=(u-l)/n\n    y0=y.subs(x,l)\n    yn=y.subs(x,u)\n    sum1=0\n    sum2=0\n    for i in range(1,n):\n        yi=y.subs(x,l+i*h)\n        if i%2==0:\n            sum1=sum1+yi\n        else:\n            sum2=sum2+yi\n    I=float((h/3)*(y0+yn+2*sum1+4*sum2))\n    print(\"The integral of \",y,\"is\",I)\n\nSimpson13(1/(1+x**2),0,6,6)",
      "metadata": {
        "trusted": true
      },
      "outputs": [
        {
          "name": "stdout",
          "text": "The integral of  1/(x**2 + 1) is 1.3661734132322367\n",
          "output_type": "stream"
        }
      ],
      "execution_count": 4
    },
    {
      "cell_type": "markdown",
      "source": "**4. Runge Kutta Fourth Order Method to solve differential equations numerically.**",
      "metadata": {}
    },
    {
      "cell_type": "code",
      "source": "def f(x,y):\n    return x**2+y\ndef rungeKutte(x0,y0,x,h):\n    n = int((x-x0)/h)\n    y = y0\n    for i in range(1,n+1):\n        k1=h*f(x0,y)\n        k2=h*f(x0+0.5*h,y+0.5*k1)\n        k3=h*f(x0+0.5*h,y+0.5*k2)\n        k4=h*f(x0+h,y+k3)\n        y= y+(1/6)*(k1+2*k2+2*k3+k4)\n        x0=x0+h\n    return y\n    \nx0=0\ny=1\nx=0.1\nh=0.05\n\nprint(\"The value of y at\",x,\"is\",rungeKutte(x0,y,x,h))",
      "metadata": {
        "trusted": true
      },
      "outputs": [
        {
          "name": "stdout",
          "text": "The value of y at 0.1 is 1.1055127510175935\n",
          "output_type": "stream"
        }
      ],
      "execution_count": 5
    },
    {
      "cell_type": "markdown",
      "source": "**5. Finding the Fourier Series expansion of a function.**",
      "metadata": {}
    },
    {
      "cell_type": "code",
      "source": "from sympy import *\nfrom sympy.abc import x\ns = fourier_series(x**2, (x, -pi, pi))\ns1 = s.truncate(n=4)\nprint(\"The fourier series expansion of x**2 in the interval (-pi,pi) is\",s1)",
      "metadata": {
        "trusted": true
      },
      "outputs": [
        {
          "name": "stdout",
          "text": "The fourier series expansion of x**2 in the interval (-pi,pi) is -4*cos(x) + cos(2*x) - 4*cos(3*x)/9 + pi**2/3\n",
          "output_type": "stream"
        }
      ],
      "execution_count": 6
    },
    {
      "cell_type": "markdown",
      "source": "**6. Finding the Half Range Fourier Series expansion of a function.**",
      "metadata": {}
    },
    {
      "cell_type": "code",
      "source": "from sympy import Piecewise as pw\nfrom sympy.abc import x\nfrom sympy import *\n\ndef HRFS(f,L):\n  a=(x>=0)&(x<=L)\n  b=(x>=-L)&(x<0)\n  g=f.subs(x,-x)\n  fodd=pw((f,a),(-g,b))\n  feven=pw((f,a),(g,b))\n  fsin=pw.fourier_series(fodd,(x,-L,L))\n  print(\"The half range fourier sine series of the function\",f,\"is\")\n  pprint(fsin.truncate(n=4))\n  fcos=pw.fourier_series(feven,(x,-L,L))\n  print(\"The half range fourier cosine series of the function\",f,\"is\")\n  pprint(fcos.truncate(n=4))\n\nHRFS(x,2)",
      "metadata": {
        "trusted": true
      },
      "outputs": [
        {
          "name": "stdout",
          "text": "The half range fourier sine series of the function x is\n     ⎛π⋅x⎞                     ⎛3⋅π⋅x⎞             \n4⋅sin⎜───⎟                4⋅sin⎜─────⎟             \n     ⎝ 2 ⎠   2⋅sin(π⋅x)        ⎝  2  ⎠   sin(2⋅π⋅x)\n────────── - ────────── + ──────────── - ──────────\n    π            π            3⋅π            π     \nThe half range fourier cosine series of the function x is\n       ⎛π⋅x⎞        ⎛3⋅π⋅x⎞        ⎛5⋅π⋅x⎞    \n  8⋅cos⎜───⎟   8⋅cos⎜─────⎟   8⋅cos⎜─────⎟    \n       ⎝ 2 ⎠        ⎝  2  ⎠        ⎝  2  ⎠    \n- ────────── - ──────────── - ──────────── + 1\n       2              2              2        \n      π            9⋅π           25⋅π         \n",
          "output_type": "stream"
        }
      ],
      "execution_count": 7
    },
    {
      "cell_type": "markdown",
      "source": "**7. Convergence of series using D'Alembert's Ratio test, Raabe's test and Cauchy's root test.**",
      "metadata": {}
    },
    {
      "cell_type": "code",
      "source": "from math import *\nfrom numpy import *\nfrom sympy import *\nfrom sympy.abc import n\n\ndef D(y,yy):\n    l=limit(yy/y,n,inf)\n    if l>1:\n        print(\"Divergent by D'Alembert's ratio test\")\n    elif l<1:\n        print(\"Convergent by D'Alembert's ratio test\")\n    else:\n        print (\"D'Alembert ratio test fails\")\ndef R(y,yy):\n    l=limit((y/yy-1)*n,n,inf)\n    if l<1:\n        print(\"Divergent by Raabe's test\")\n    elif l>1:\n        print(\"Convergent by Raabe's test\")\n    else:\n        print (\"Raabe's test fails\")\ndef C(y,yy):\n    l=limit(y**(1/n),n,inf)\n    if l>1:\n        print(\"Divergent by Cauchy's root test\")\n    elif l<1:\n        print(\"Convergent by Cauchy's root test\")\n    else:\n        print (\"Cauchy's root test fails\")\n\ndef Test(y,yy):\n    D(y,yy)\n    R(y,yy)\n    C(y,yy)\n\ny=((n**2)*(n+1)**2)/factorial(n)\nyy=y.subs({n:n+1}).doit()\nTest(y, yy)",
      "metadata": {
        "trusted": true
      },
      "outputs": [
        {
          "name": "stdout",
          "text": "Convergent by D'Alembert's ratio test\nConvergent by Raabe's test\nCauchy's root test fails\n",
          "output_type": "stream"
        }
      ],
      "execution_count": 8
    },
    {
      "cell_type": "markdown",
      "source": "**8. Summation using exponential and logarithmic series.**",
      "metadata": {}
    },
    {
      "cell_type": "code",
      "source": "from sympy import *\nfrom sympy.abc import n\n\nprint(\"Sum to infinity of\")\ndisplay(n**3/factorial(n))\nprint(\"is: \")\ndisplay(summation(n**3/factorial(n),(n,1,oo)))",
      "metadata": {
        "trusted": true
      },
      "outputs": [
        {
          "name": "stdout",
          "text": "Sum to infinity of\n",
          "output_type": "stream"
        },
        {
          "output_type": "display_data",
          "data": {
            "text/plain": "n**3/factorial(n)",
            "text/latex": "$\\displaystyle \\frac{n^{3}}{n!}$"
          },
          "metadata": {}
        },
        {
          "name": "stdout",
          "text": "is: \n",
          "output_type": "stream"
        },
        {
          "output_type": "display_data",
          "data": {
            "text/plain": "5*E",
            "text/latex": "$\\displaystyle 5 e$"
          },
          "metadata": {}
        }
      ],
      "execution_count": 9
    },
    {
      "cell_type": "markdown",
      "source": "**9. Group Homomorphisms.**",
      "metadata": {}
    },
    {
      "cell_type": "code",
      "source": "from sympy import *\n\ndef f(x):\n    return 2*x\ndef addmod (a,b,n):\n    return(a+b)%n\ndef multmod (a,b,n):\n    return(a*b)%n\ndef is_homomorphism(G,op1,op2,n1,n2):\n    neg=[(a,b) for a in G\n               for b in G\n                if f(op1(a,b,n1))!= op2(f(a),f(b),n2)]\n    if neg:\n        print(\"f(x) is not a homomorphism\")\n    else:\n        print(\"f(x) is a homomorphism\")\n\nis_homomorphism({0,1,2,3,4,5},addmod,addmod,6,12)",
      "metadata": {
        "trusted": true
      },
      "outputs": [
        {
          "name": "stdout",
          "text": "f(x) is a homomorphism\n",
          "output_type": "stream"
        }
      ],
      "execution_count": 10
    }
  ]
}